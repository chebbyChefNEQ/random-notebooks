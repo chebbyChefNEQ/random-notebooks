{
 "cells": [
  {
   "cell_type": "markdown",
   "metadata": {},
   "source": [
    "### A simple Renting vs Buying calculator\n",
    "\n",
    "I'm sure there are a bunch of variables that I didn't include, say tax deductions. For a rule of thumb estimate, tho, this should be enough.\n",
    "\n",
    "#### Usage\n",
    "* Change the numbers in each of the blocks commented with `### USER CONFIG` with what ever fits your situation\n",
    "* Run all\n",
    "* Voilà\n",
    "\n",
    "#### A grain of salt\n",
    "* Some co-worker: Did you test your code?\n",
    "* Me: What's test?\n",
    "* Some co-worker: (**facepalm intensifies**)\n",
    "\n",
    "Anyway, all jokes aside, I know most of the rate params are fine. But I'm sure there are many cases that are not handled."
   ]
  },
  {
   "cell_type": "code",
   "execution_count": 1,
   "metadata": {},
   "outputs": [],
   "source": [
    "import pandas as pd\n",
    "import numpy as np\n",
    "\n",
    "from matplotlib import pyplot as plt"
   ]
  },
  {
   "cell_type": "code",
   "execution_count": 2,
   "metadata": {},
   "outputs": [],
   "source": [
    "def convert_annual_2_monthly(rate: float) -> float:\n",
    "    return (\n",
    "        np.power(\n",
    "            np.e,\n",
    "            np.log(\n",
    "                1.0 + rate / 100.0 / 12.0\n",
    "            )\n",
    "        ) - 1\n",
    "    ) * 100"
   ]
  },
  {
   "cell_type": "code",
   "execution_count": 3,
   "metadata": {},
   "outputs": [],
   "source": [
    "### USER CONFIG\n",
    "\n",
    "# More static stuff\n",
    "agentCommisionRate = 8.0  # overestimated to cover other cost\n",
    "\n",
    "overheadGrowthMonthly = 0.5\n",
    "\n",
    "propertyTaxRateAnnually = 1.0 # overestimated from 0.953"
   ]
  },
  {
   "cell_type": "code",
   "execution_count": 4,
   "metadata": {},
   "outputs": [
    {
     "name": "stdout",
     "output_type": "stream",
     "text": [
      "Converted rent growth rate to monthly: 0.417\n",
      "Converted investment rate to monthly: 0.583\n",
      "Converted houseApperciation rate to monthly: 0.583\n",
      "Converted saving increase rate to monthly: 0.417\n"
     ]
    }
   ],
   "source": [
    "### USER CONFIG\n",
    "### Investment rate, Appreciation Rate, etc.\n",
    "\n",
    "rentGrowthRatePerYear = 5.0\n",
    "rentGrowthRatePerMonth = convert_annual_2_monthly(rentGrowthRatePerYear)\n",
    "print(\"Converted rent growth rate to monthly: {:.3f}\".format(rentGrowthRatePerMonth))\n",
    "\n",
    "projectedInvestmentGrowthPerYear = 7.0\n",
    "projectedInvestmentGrowthPerMonth = convert_annual_2_monthly(projectedInvestmentGrowthPerYear)\n",
    "print(\"Converted investment rate to monthly: {:.3f}\".format(projectedInvestmentGrowthPerMonth))\n",
    "\n",
    "houseApperciationRatePerYear = 5.0\n",
    "houseApperciationRatePerMonth = convert_annual_2_monthly(houseApperciationRatePerYear)\n",
    "print(\"Converted houseApperciation rate to monthly: {:.3f}\".format(projectedInvestmentGrowthPerMonth))\n",
    "\n",
    "savingIncreaseRatePerYear = 5.0\n",
    "savingIncreateRatePerMonth = convert_annual_2_monthly(savingIncreaseRatePerYear)\n",
    "print(\"Converted saving increase rate to monthly: {:.3f}\".format(savingIncreateRatePerMonth))"
   ]
  },
  {
   "cell_type": "code",
   "execution_count": 5,
   "metadata": {},
   "outputs": [
    {
     "name": "stdout",
     "output_type": "stream",
     "text": [
      "Monthly overhead is 1170\n"
     ]
    }
   ],
   "source": [
    "### USER CONFIG\n",
    "### House, loan, and finanical details\n",
    "\n",
    "# How much cash you have on your hand\n",
    "cashOnHand = 42000\n",
    "\n",
    "# exclude utilities\n",
    "rent = 2200 \n",
    "# Node: This doesn't really change the outcome, so....\n",
    "savingPerMonth = 2000\n",
    "\n",
    "# Purchase price of the house\n",
    "houseCost = 440000\n",
    "# The tax value of the home, for caculating how many beans you own Uncle Sam.\n",
    "taxValue = \t440000\n",
    "\n",
    "# Loan origination fees\n",
    "closingCost = 5000\n",
    "# the down payment percentage\n",
    "downPercentage = 5.0\n",
    "# DONT TOUCH THIS\n",
    "downPayment = houseCost * downPercentage / 100.0\n",
    "\n",
    "# Your monthly interest rate, NOT YOU APR\n",
    "interestRate = 3.375\n",
    "# The loan term length\n",
    "paymentPeriodMonth = 360\n",
    "\n",
    "# HOA + Insurance + internet + water + gas/electricity + PMI + random cost\n",
    "overhead = 480 + 60 + 70 + 100 + 100 + 160 + 200 \n",
    "print(\"Monthly overhead is {}\".format(overhead))"
   ]
  },
  {
   "cell_type": "code",
   "execution_count": 6,
   "metadata": {},
   "outputs": [
    {
     "name": "stdout",
     "output_type": "stream",
     "text": [
      "Total upfront is: 27000.0\n"
     ]
    }
   ],
   "source": [
    "upfrontCost = downPayment + closingCost\n",
    "print(\"Total upfront is: {}\".format(upfrontCost))"
   ]
  },
  {
   "cell_type": "code",
   "execution_count": 7,
   "metadata": {},
   "outputs": [
    {
     "name": "stdout",
     "output_type": "stream",
     "text": [
      "Monthly payment is: 1848\n"
     ]
    }
   ],
   "source": [
    "principal = houseCost - downPayment\n",
    "effectiveMonthRate = interestRate / 12 / 100\n",
    "\n",
    "paymentLoan = (\n",
    "    principal *\n",
    "    effectiveMonthRate *\n",
    "    np.power(1 + effectiveMonthRate, paymentPeriodMonth) /\n",
    "    (np.power(1 + effectiveMonthRate, paymentPeriodMonth) - 1)\n",
    ")\n",
    "\n",
    "print(\"Monthly payment is: {:.0f}\".format(paymentLoan))"
   ]
  },
  {
   "cell_type": "code",
   "execution_count": 8,
   "metadata": {},
   "outputs": [],
   "source": [
    "df = pd.DataFrame()\n",
    "df[\"month\"] = np.arange(paymentPeriodMonth)"
   ]
  },
  {
   "cell_type": "code",
   "execution_count": 9,
   "metadata": {},
   "outputs": [],
   "source": [
    "def caculate_savings_renting(month, saving_rate):\n",
    "    if month == 0:\n",
    "        return cashOnHand\n",
    "    else:\n",
    "        return (\n",
    "            caculate_savings_renting(month - 1, saving_rate) * (1 + projectedInvestmentGrowthPerMonth / 100) + \n",
    "            saving_rate * np.power(1 + savingIncreateRatePerMonth / 100, month)\n",
    "        )\n"
   ]
  },
  {
   "cell_type": "code",
   "execution_count": 10,
   "metadata": {},
   "outputs": [],
   "source": [
    "df[\"networth_renting\"] = df[\"month\"].apply(lambda x: caculate_savings_renting(x, savingPerMonth))"
   ]
  },
  {
   "cell_type": "code",
   "execution_count": 11,
   "metadata": {},
   "outputs": [],
   "source": [
    "df[\"property_tax\"] = df[\"month\"].apply(lambda x: taxValue * propertyTaxRateAnnually / 100 / 12 * np.power(1 + houseApperciationRatePerMonth / 12 / 100, x))"
   ]
  },
  {
   "cell_type": "code",
   "execution_count": 12,
   "metadata": {},
   "outputs": [],
   "source": [
    "df[\"hoa\"] = df[\"month\"].apply(lambda x: overhead * np.power(1 + overheadGrowthMonthly / 12 / 100, x))"
   ]
  },
  {
   "cell_type": "code",
   "execution_count": 13,
   "metadata": {},
   "outputs": [],
   "source": [
    "df[\"payment\"] = df[\"month\"] * 0 + paymentLoan + df[\"property_tax\"] + df[\"hoa\"]"
   ]
  },
  {
   "cell_type": "code",
   "execution_count": 14,
   "metadata": {},
   "outputs": [
    {
     "name": "stdout",
     "output_type": "stream",
     "text": [
      "Expected monthly total upkeep (loan + tax + all overhead): \n",
      "@ (0)-th month is: 3385\n",
      "@ (24)-th month is: 3399\n",
      "@ (48)-th month is: 3414\n",
      "@ (72)-th month is: 3430\n",
      "@ (96)-th month is: 3445\n",
      "@ (120)-th month is: 3460\n",
      "@ (144)-th month is: 3476\n",
      "@ (168)-th month is: 3491\n",
      "@ (192)-th month is: 3507\n",
      "@ (216)-th month is: 3523\n",
      "@ (240)-th month is: 3540\n",
      "@ (264)-th month is: 3556\n",
      "@ (288)-th month is: 3572\n",
      "@ (312)-th month is: 3589\n",
      "@ (336)-th month is: 3606\n"
     ]
    }
   ],
   "source": [
    "interval = 24\n",
    "\n",
    "print(\"Expected monthly total upkeep (loan + tax + all overhead): \")\n",
    "for x in np.arange(0, paymentPeriodMonth, interval):\n",
    "    print(\"@ ({})-th month is: {:.0f}\".format(x, df[\"payment\"][x]))"
   ]
  },
  {
   "cell_type": "code",
   "execution_count": 15,
   "metadata": {},
   "outputs": [],
   "source": [
    "df[\"payment_subtotal\"] = df[\"month\"].apply(lambda x: df[\"payment\"][:x].sum())"
   ]
  },
  {
   "cell_type": "code",
   "execution_count": 16,
   "metadata": {},
   "outputs": [],
   "source": [
    "df[\"saving_before_payment\"] = df[\"month\"].apply(lambda x: (rent + savingPerMonth) * np.power(1 + savingIncreateRatePerMonth / 100, x))"
   ]
  },
  {
   "cell_type": "code",
   "execution_count": 17,
   "metadata": {},
   "outputs": [],
   "source": [
    "df[\"saving_after_payment\"] = df[\"saving_before_payment\"] - df[\"payment\"]"
   ]
  },
  {
   "cell_type": "code",
   "execution_count": 18,
   "metadata": {},
   "outputs": [],
   "source": [
    "def calculate_savings_buying(df, month):\n",
    "    if month == 0:\n",
    "        return cashOnHand - upfrontCost\n",
    "    return calculate_savings_buying(df, month - 1) * (1 + projectedInvestmentGrowthPerMonth / 100) +  df[\"saving_after_payment\"][month]"
   ]
  },
  {
   "cell_type": "code",
   "execution_count": 19,
   "metadata": {},
   "outputs": [],
   "source": [
    "df[\"networth_from_savings\"] = df[\"month\"].apply(lambda x: calculate_savings_buying(df, x))"
   ]
  },
  {
   "cell_type": "code",
   "execution_count": 20,
   "metadata": {},
   "outputs": [],
   "source": [
    "df[\"principal_left\"] = df[\"month\"].apply(lambda x: principal * np.power(1 + effectiveMonthRate, x) - paymentLoan * ((np.power(1 + effectiveMonthRate, x) - 1) / effectiveMonthRate))"
   ]
  },
  {
   "cell_type": "code",
   "execution_count": 21,
   "metadata": {},
   "outputs": [],
   "source": [
    "df[\"house_worth\"] = df[\"month\"].apply(lambda x: houseCost * np.power(1 + houseApperciationRatePerMonth / 100, x))"
   ]
  },
  {
   "cell_type": "code",
   "execution_count": 22,
   "metadata": {},
   "outputs": [],
   "source": [
    "df[\"networth_from_house\"] = df[\"house_worth\"] * (1 - agentCommisionRate / 100) - df[\"principal_left\"]"
   ]
  },
  {
   "cell_type": "code",
   "execution_count": 23,
   "metadata": {},
   "outputs": [],
   "source": [
    "df[\"networth_buying\"] = df[\"networth_from_house\"]  + df[\"networth_from_savings\"]"
   ]
  },
  {
   "cell_type": "code",
   "execution_count": 24,
   "metadata": {},
   "outputs": [
    {
     "data": {
      "text/plain": [
       "<matplotlib.legend.Legend at 0x7f5c4e58bfd0>"
      ]
     },
     "execution_count": 24,
     "metadata": {},
     "output_type": "execute_result"
    },
    {
     "data": {
      "image/png": "[encoded data removed]",
      "text/plain": [
       "<Figure size 432x288 with 1 Axes>"
      ]
     },
     "metadata": {
      "needs_background": "light"
     },
     "output_type": "display_data"
    }
   ],
   "source": [
    "p = plt.plot(df[\"month\"], df[\"networth_renting\"], df[\"networth_buying\"])\n",
    "\n",
    "plt.legend(p, (\"renting\", \"buying\"))"
   ]
  },
  {
   "cell_type": "code",
   "execution_count": 25,
   "metadata": {},
   "outputs": [
    {
     "name": "stdout",
     "output_type": "stream",
     "text": [
      "Renting would result in more net worth after 34 month\n"
     ]
    }
   ],
   "source": [
    "monthTillRentingIsBetter = ((df[\"networth_renting\"] - df[\"networth_buying\"]) < 0).ne(True).idxmin()\n",
    "\n",
    "# Renting is always better case\n",
    "assert ((df[\"networth_renting\"] - df[\"networth_buying\"]) < 0).ne(True).sum() != paymentPeriodMonth\n",
    "\n",
    "print(\"Renting would result in more net worth after {} month\".format(monthTillRentingIsBetter))"
   ]
  },
  {
   "cell_type": "code",
   "execution_count": 26,
   "metadata": {},
   "outputs": [],
   "source": [
    "df[\"rent_minus_buying\"] = df[\"networth_renting\"] - df[\"networth_buying\"]"
   ]
  },
  {
   "cell_type": "code",
   "execution_count": 27,
   "metadata": {},
   "outputs": [
    {
     "data": {
      "text/plain": [
       "326"
      ]
     },
     "execution_count": 27,
     "metadata": {},
     "output_type": "execute_result"
    }
   ],
   "source": [
    "(df[\"rent_minus_buying\"] < 0).sum()"
   ]
  },
  {
   "cell_type": "code",
   "execution_count": 28,
   "metadata": {},
   "outputs": [
    {
     "data": {
      "text/html": [
       "<div>\n",
       "<style scoped>\n",
       "    .dataframe tbody tr th:only-of-type {\n",
       "        vertical-align: middle;\n",
       "    }\n",
       "\n",
       "    .dataframe tbody tr th {\n",
       "        vertical-align: top;\n",
       "    }\n",
       "\n",
       "    .dataframe thead th {\n",
       "        text-align: right;\n",
       "    }\n",
       "</style>\n",
       "<table border=\"1\" class=\"dataframe\">\n",
       "  <thead>\n",
       "    <tr style=\"text-align: right;\">\n",
       "      <th></th>\n",
       "      <th>month</th>\n",
       "      <th>networth_renting</th>\n",
       "      <th>property_tax</th>\n",
       "      <th>hoa</th>\n",
       "      <th>payment</th>\n",
       "      <th>payment_subtotal</th>\n",
       "      <th>saving_before_payment</th>\n",
       "      <th>saving_after_payment</th>\n",
       "      <th>networth_from_savings</th>\n",
       "      <th>principal_left</th>\n",
       "      <th>house_worth</th>\n",
       "      <th>networth_from_house</th>\n",
       "      <th>networth_buying</th>\n",
       "      <th>rent_minus_buying</th>\n",
       "    </tr>\n",
       "  </thead>\n",
       "  <tbody>\n",
       "    <tr>\n",
       "      <td>0</td>\n",
       "      <td>0</td>\n",
       "      <td>4.200000e+04</td>\n",
       "      <td>366.666667</td>\n",
       "      <td>1170.000000</td>\n",
       "      <td>3384.628826</td>\n",
       "      <td>0.000000e+00</td>\n",
       "      <td>4200.000000</td>\n",
       "      <td>815.371174</td>\n",
       "      <td>1.500000e+04</td>\n",
       "      <td>418000.000000</td>\n",
       "      <td>4.400000e+05</td>\n",
       "      <td>-1.320000e+04</td>\n",
       "      <td>1.800000e+03</td>\n",
       "      <td>4.020000e+04</td>\n",
       "    </tr>\n",
       "    <tr>\n",
       "      <td>1</td>\n",
       "      <td>1</td>\n",
       "      <td>4.425333e+04</td>\n",
       "      <td>366.793981</td>\n",
       "      <td>1170.487500</td>\n",
       "      <td>3385.243640</td>\n",
       "      <td>3.384629e+03</td>\n",
       "      <td>4217.500000</td>\n",
       "      <td>832.256360</td>\n",
       "      <td>1.591976e+04</td>\n",
       "      <td>417327.662841</td>\n",
       "      <td>4.418333e+05</td>\n",
       "      <td>-1.084100e+04</td>\n",
       "      <td>5.078760e+03</td>\n",
       "      <td>3.917457e+04</td>\n",
       "    </tr>\n",
       "    <tr>\n",
       "      <td>2</td>\n",
       "      <td>2</td>\n",
       "      <td>4.652818e+04</td>\n",
       "      <td>366.921341</td>\n",
       "      <td>1170.975203</td>\n",
       "      <td>3385.858703</td>\n",
       "      <td>6.769872e+03</td>\n",
       "      <td>4235.072917</td>\n",
       "      <td>849.214214</td>\n",
       "      <td>1.686184e+04</td>\n",
       "      <td>416653.434734</td>\n",
       "      <td>4.436743e+05</td>\n",
       "      <td>-8.473074e+03</td>\n",
       "      <td>8.388762e+03</td>\n",
       "      <td>3.813942e+04</td>\n",
       "    </tr>\n",
       "    <tr>\n",
       "      <td>3</td>\n",
       "      <td>3</td>\n",
       "      <td>4.882470e+04</td>\n",
       "      <td>367.048744</td>\n",
       "      <td>1171.463109</td>\n",
       "      <td>3386.474012</td>\n",
       "      <td>1.015573e+04</td>\n",
       "      <td>4252.719054</td>\n",
       "      <td>866.245042</td>\n",
       "      <td>1.782644e+04</td>\n",
       "      <td>415977.310360</td>\n",
       "      <td>4.455229e+05</td>\n",
       "      <td>-6.096198e+03</td>\n",
       "      <td>1.173024e+04</td>\n",
       "      <td>3.709445e+04</td>\n",
       "    </tr>\n",
       "    <tr>\n",
       "      <td>4</td>\n",
       "      <td>4</td>\n",
       "      <td>5.114305e+04</td>\n",
       "      <td>367.176191</td>\n",
       "      <td>1171.951219</td>\n",
       "      <td>3387.089569</td>\n",
       "      <td>1.354221e+04</td>\n",
       "      <td>4270.438717</td>\n",
       "      <td>883.349147</td>\n",
       "      <td>1.881378e+04</td>\n",
       "      <td>415299.284387</td>\n",
       "      <td>4.473793e+05</td>\n",
       "      <td>-3.710334e+03</td>\n",
       "      <td>1.510344e+04</td>\n",
       "      <td>3.603961e+04</td>\n",
       "    </tr>\n",
       "    <tr>\n",
       "      <td>...</td>\n",
       "      <td>...</td>\n",
       "      <td>...</td>\n",
       "      <td>...</td>\n",
       "      <td>...</td>\n",
       "      <td>...</td>\n",
       "      <td>...</td>\n",
       "      <td>...</td>\n",
       "      <td>...</td>\n",
       "      <td>...</td>\n",
       "      <td>...</td>\n",
       "      <td>...</td>\n",
       "      <td>...</td>\n",
       "      <td>...</td>\n",
       "      <td>...</td>\n",
       "    </tr>\n",
       "    <tr>\n",
       "      <td>355</td>\n",
       "      <td>355</td>\n",
       "      <td>4.558304e+06</td>\n",
       "      <td>414.758185</td>\n",
       "      <td>1356.475251</td>\n",
       "      <td>3619.195595</td>\n",
       "      <td>1.242071e+06</td>\n",
       "      <td>18378.437971</td>\n",
       "      <td>14759.242376</td>\n",
       "      <td>4.910012e+06</td>\n",
       "      <td>9162.358646</td>\n",
       "      <td>1.925360e+06</td>\n",
       "      <td>1.762169e+06</td>\n",
       "      <td>6.672181e+06</td>\n",
       "      <td>-2.113878e+06</td>\n",
       "    </tr>\n",
       "    <tr>\n",
       "      <td>356</td>\n",
       "      <td>356</td>\n",
       "      <td>4.593682e+06</td>\n",
       "      <td>414.902198</td>\n",
       "      <td>1357.040449</td>\n",
       "      <td>3619.904806</td>\n",
       "      <td>1.245690e+06</td>\n",
       "      <td>18455.014796</td>\n",
       "      <td>14835.109990</td>\n",
       "      <td>4.953489e+06</td>\n",
       "      <td>7340.165621</td>\n",
       "      <td>1.933383e+06</td>\n",
       "      <td>1.771372e+06</td>\n",
       "      <td>6.724861e+06</td>\n",
       "      <td>-2.131179e+06</td>\n",
       "    </tr>\n",
       "    <tr>\n",
       "      <td>357</td>\n",
       "      <td>357</td>\n",
       "      <td>4.629303e+06</td>\n",
       "      <td>415.046262</td>\n",
       "      <td>1357.605882</td>\n",
       "      <td>3620.614303</td>\n",
       "      <td>1.249310e+06</td>\n",
       "      <td>18531.910691</td>\n",
       "      <td>14911.296388</td>\n",
       "      <td>4.997296e+06</td>\n",
       "      <td>5512.847678</td>\n",
       "      <td>1.941438e+06</td>\n",
       "      <td>1.780610e+06</td>\n",
       "      <td>6.777906e+06</td>\n",
       "      <td>-2.148603e+06</td>\n",
       "    </tr>\n",
       "    <tr>\n",
       "      <td>358</td>\n",
       "      <td>358</td>\n",
       "      <td>4.665169e+06</td>\n",
       "      <td>415.190375</td>\n",
       "      <td>1358.171551</td>\n",
       "      <td>3621.324085</td>\n",
       "      <td>1.252930e+06</td>\n",
       "      <td>18609.126985</td>\n",
       "      <td>14987.802900</td>\n",
       "      <td>5.041435e+06</td>\n",
       "      <td>3680.390403</td>\n",
       "      <td>1.949528e+06</td>\n",
       "      <td>1.789885e+06</td>\n",
       "      <td>6.831320e+06</td>\n",
       "      <td>-2.166151e+06</td>\n",
       "    </tr>\n",
       "    <tr>\n",
       "      <td>359</td>\n",
       "      <td>359</td>\n",
       "      <td>4.701281e+06</td>\n",
       "      <td>415.334538</td>\n",
       "      <td>1358.737456</td>\n",
       "      <td>3622.034153</td>\n",
       "      <td>1.256552e+06</td>\n",
       "      <td>18686.665015</td>\n",
       "      <td>15064.630861</td>\n",
       "      <td>5.085908e+06</td>\n",
       "      <td>1842.779342</td>\n",
       "      <td>1.957651e+06</td>\n",
       "      <td>1.799196e+06</td>\n",
       "      <td>6.885103e+06</td>\n",
       "      <td>-2.183823e+06</td>\n",
       "    </tr>\n",
       "  </tbody>\n",
       "</table>\n",
       "<p>360 rows × 14 columns</p>\n",
       "</div>"
      ],
      "text/plain": [
       "     month  networth_renting  property_tax          hoa      payment  \\\n",
       "0        0      4.200000e+04    366.666667  1170.000000  3384.628826   \n",
       "1        1      4.425333e+04    366.793981  1170.487500  3385.243640   \n",
       "2        2      4.652818e+04    366.921341  1170.975203  3385.858703   \n",
       "3        3      4.882470e+04    367.048744  1171.463109  3386.474012   \n",
       "4        4      5.114305e+04    367.176191  1171.951219  3387.089569   \n",
       "..     ...               ...           ...          ...          ...   \n",
       "355    355      4.558304e+06    414.758185  1356.475251  3619.195595   \n",
       "356    356      4.593682e+06    414.902198  1357.040449  3619.904806   \n",
       "357    357      4.629303e+06    415.046262  1357.605882  3620.614303   \n",
       "358    358      4.665169e+06    415.190375  1358.171551  3621.324085   \n",
       "359    359      4.701281e+06    415.334538  1358.737456  3622.034153   \n",
       "\n",
       "     payment_subtotal  saving_before_payment  saving_after_payment  \\\n",
       "0        0.000000e+00            4200.000000            815.371174   \n",
       "1        3.384629e+03            4217.500000            832.256360   \n",
       "2        6.769872e+03            4235.072917            849.214214   \n",
       "3        1.015573e+04            4252.719054            866.245042   \n",
       "4        1.354221e+04            4270.438717            883.349147   \n",
       "..                ...                    ...                   ...   \n",
       "355      1.242071e+06           18378.437971          14759.242376   \n",
       "356      1.245690e+06           18455.014796          14835.109990   \n",
       "357      1.249310e+06           18531.910691          14911.296388   \n",
       "358      1.252930e+06           18609.126985          14987.802900   \n",
       "359      1.256552e+06           18686.665015          15064.630861   \n",
       "\n",
       "     networth_from_savings  principal_left   house_worth  networth_from_house  \\\n",
       "0             1.500000e+04   418000.000000  4.400000e+05        -1.320000e+04   \n",
       "1             1.591976e+04   417327.662841  4.418333e+05        -1.084100e+04   \n",
       "2             1.686184e+04   416653.434734  4.436743e+05        -8.473074e+03   \n",
       "3             1.782644e+04   415977.310360  4.455229e+05        -6.096198e+03   \n",
       "4             1.881378e+04   415299.284387  4.473793e+05        -3.710334e+03   \n",
       "..                     ...             ...           ...                  ...   \n",
       "355           4.910012e+06     9162.358646  1.925360e+06         1.762169e+06   \n",
       "356           4.953489e+06     7340.165621  1.933383e+06         1.771372e+06   \n",
       "357           4.997296e+06     5512.847678  1.941438e+06         1.780610e+06   \n",
       "358           5.041435e+06     3680.390403  1.949528e+06         1.789885e+06   \n",
       "359           5.085908e+06     1842.779342  1.957651e+06         1.799196e+06   \n",
       "\n",
       "     networth_buying  rent_minus_buying  \n",
       "0       1.800000e+03       4.020000e+04  \n",
       "1       5.078760e+03       3.917457e+04  \n",
       "2       8.388762e+03       3.813942e+04  \n",
       "3       1.173024e+04       3.709445e+04  \n",
       "4       1.510344e+04       3.603961e+04  \n",
       "..               ...                ...  \n",
       "355     6.672181e+06      -2.113878e+06  \n",
       "356     6.724861e+06      -2.131179e+06  \n",
       "357     6.777906e+06      -2.148603e+06  \n",
       "358     6.831320e+06      -2.166151e+06  \n",
       "359     6.885103e+06      -2.183823e+06  \n",
       "\n",
       "[360 rows x 14 columns]"
      ]
     },
     "execution_count": 28,
     "metadata": {},
     "output_type": "execute_result"
    }
   ],
   "source": [
    "df"
   ]
  }
 ],
 "metadata": {
  "kernelspec": {
   "display_name": "Python 3",
   "language": "python",
   "name": "python3"
  },
  "language_info": {
   "codemirror_mode": {
    "name": "ipython",
    "version": 3
   },
   "file_extension": ".py",
   "mimetype": "text/x-python",
   "name": "python",
   "nbconvert_exporter": "python",
   "pygments_lexer": "ipython3",
   "version": "3.7.4"
  }
 },
 "nbformat": 4,
 "nbformat_minor": 2
}
